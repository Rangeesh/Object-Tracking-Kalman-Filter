{
  "nbformat": 4,
  "nbformat_minor": 0,
  "metadata": {
    "colab": {
      "name": "UKF_realdata.ipynb",
      "provenance": [],
      "authorship_tag": "ABX9TyMPDL2vmpkBMzISon7UldMe",
      "include_colab_link": true
    },
    "kernelspec": {
      "name": "python3",
      "display_name": "Python 3"
    }
  },
  "cells": [
    {
      "cell_type": "markdown",
      "metadata": {
        "id": "view-in-github",
        "colab_type": "text"
      },
      "source": [
        "<a href=\"https://colab.research.google.com/github/Neelkamal18/Robotic_Perception/blob/master/UKF.ipynb\" target=\"_parent\"><img src=\"https://colab.research.google.com/assets/colab-badge.svg\" alt=\"Open In Colab\"/></a>"
      ]
    },
    {
      "cell_type": "code",
      "metadata": {
        "id": "M1RHkrhQ4aXf",
        "colab_type": "code",
        "outputId": "1fba8581-4484-4ad1-c96b-d7b187821f1f",
        "colab": {
          "base_uri": "https://localhost:8080/",
          "height": 170
        }
      },
      "source": [
        "#installing package\n",
        "!pip install filterpy\n"
      ],
      "execution_count": 349,
      "outputs": [
        {
          "output_type": "stream",
          "text": [
            "Requirement already satisfied: filterpy in /usr/local/lib/python3.6/dist-packages (1.4.5)\n",
            "Requirement already satisfied: matplotlib in /usr/local/lib/python3.6/dist-packages (from filterpy) (3.2.1)\n",
            "Requirement already satisfied: scipy in /usr/local/lib/python3.6/dist-packages (from filterpy) (1.4.1)\n",
            "Requirement already satisfied: numpy in /usr/local/lib/python3.6/dist-packages (from filterpy) (1.18.3)\n",
            "Requirement already satisfied: kiwisolver>=1.0.1 in /usr/local/lib/python3.6/dist-packages (from matplotlib->filterpy) (1.2.0)\n",
            "Requirement already satisfied: python-dateutil>=2.1 in /usr/local/lib/python3.6/dist-packages (from matplotlib->filterpy) (2.8.1)\n",
            "Requirement already satisfied: pyparsing!=2.0.4,!=2.1.2,!=2.1.6,>=2.0.1 in /usr/local/lib/python3.6/dist-packages (from matplotlib->filterpy) (2.4.7)\n",
            "Requirement already satisfied: cycler>=0.10 in /usr/local/lib/python3.6/dist-packages (from matplotlib->filterpy) (0.10.0)\n",
            "Requirement already satisfied: six>=1.5 in /usr/local/lib/python3.6/dist-packages (from python-dateutil>=2.1->matplotlib->filterpy) (1.12.0)\n"
          ],
          "name": "stdout"
        }
      ]
    },
    {
      "cell_type": "code",
      "metadata": {
        "id": "LyzsPKiCHUDp",
        "colab_type": "code",
        "colab": {}
      },
      "source": [
        "#importing packages\n",
        "import numpy as np\n",
        "import csv\n",
        "import matplotlib.pyplot as plt\n",
        "\n",
        "#All lengths are in centimeters\n"
      ],
      "execution_count": 0,
      "outputs": []
    },
    {
      "cell_type": "code",
      "metadata": {
        "id": "CNJCxgddQYti",
        "colab_type": "code",
        "colab": {}
      },
      "source": [
        "#function defining state transition\n",
        "def A_ball(x,dt,ini,netdt): # Parameters(state at kth step, time step, initial conditions, elapsed time)\n",
        "  #  print(dt)\n",
        "  #  print(ini)\n",
        "  #  print(netdt)\n",
        "   xk1 = x[0] + (x[0]-ini[0])*(dt/netdt)\n",
        "   yk1 = x[1] + ini[1]*dt - 979.343*netdt*dt\n",
        "   zk1 = x[2] + (x[2]-ini[2])*(dt/netdt)\n",
        "  #  print(np.array([xk1,yk1,zk1]))\n",
        "   return np.array([xk1,yk1,zk1])\n"
      ],
      "execution_count": 0,
      "outputs": []
    },
    {
      "cell_type": "code",
      "metadata": {
        "id": "Kuf3mZJlRFGC",
        "colab_type": "code",
        "colab": {}
      },
      "source": [
        "#function defining output model\n",
        "def h_camera(x,f=1017.036,R=3.335): # Parameters(state st kth step, Focal length, Radius)\n",
        "  u = 617-(f*x[0]/x[2])\n",
        "  v = 360-(f*(x[1]+(x[2]/20)-18*2.54)/x[2])\n",
        "  r = f*R/x[2]\n",
        "  return [u,v,r]\n"
      ],
      "execution_count": 0,
      "outputs": []
    },
    {
      "cell_type": "code",
      "metadata": {
        "id": "ToEcBXtSqz5f",
        "colab_type": "code",
        "outputId": "38a860ee-3d9d-42b5-9936-f3c908d8f0fc",
        "colab": {
          "base_uri": "https://localhost:8080/",
          "height": 282
        }
      },
      "source": [
        "f=1017.036 #pixel units\n",
        "R=3.335 # cms\n",
        "\n",
        "# Reading image coordinate data from file (found by object detection)\n",
        "# image x coordinates\n",
        "rdx = csv.reader(open(\"xlist_csv.csv\", \"r\"), delimiter=\",\")\n",
        "x = []\n",
        "for row in rdx:\n",
        "  x.append(float(row[0]))\n",
        "x = np.array(x)\n",
        "\n",
        "# image y coordinates\n",
        "rdy = csv.reader(open(\"ylist_csv.csv\", \"r\"), delimiter=\",\")\n",
        "y = []\n",
        "for row in rdy:\n",
        "  y.append(float(row[0]))\n",
        "y1 = [-1*v for v in y]\n",
        "y = np.array(y)\n",
        "\n",
        "#image radius\n",
        "rdr = csv.reader(open(\"Rlist_csv.csv\", \"r\"), delimiter=\",\")\n",
        "r = []\n",
        "for row in rdr:\n",
        "  r.append(float(row[0]))\n",
        "\n",
        "rmean = np.mean(r)\n",
        "\n",
        "#Calculating x,y,z in real coordinates to get initial conditions for model\n",
        "zw = [f*R/rmean for ri in r]\n",
        "\n",
        "\n",
        "xw = [(617-u)*R/rmean for u in x]\n",
        "yw = [(360-v)*R/rmean + 18*2.54 - f*R/(rmax*20) for v in y]\n",
        "\n",
        "# cutting off the data till the start of projectile (ball leaves hand)\n",
        "init = 15\n",
        "fin = len(x)-1\n",
        "\n",
        "# measurement\n",
        "zs = [[x[i],y[i],rme[i]] for i in range(init,fin)]\n",
        "\n",
        "\n",
        "#Getting the timestamp of each measurement\n",
        "rdfr = csv.reader(open(\"frame_list_csv.csv\", \"r\"), delimiter=\",\")\n",
        "ti = []\n",
        "for row in rdfr:\n",
        "  ti.append((float(row[0])/50))\n",
        "\n",
        "#Time after start of projectile and time steps\n",
        "ti_ = [t-ti[init] for t in ti[init:fin]]\n",
        "dti = [ti_[i+1]-ti_[i] for i in range(len(ti_)-1)]\n",
        "\n",
        "#initial values needed for A_ball function\n",
        "ini = np.array([xw[init],(yw[init+3]-yw[init+2])/(ti[init+3]-ti[init+2]), zw[init]])\n",
        "\n",
        "#initial states\n",
        "x0 = np.array([xw[init],yw[init],zw[init]])\n",
        "\n",
        "#plotting x,y real to understand the projectile\n",
        "plt.plot(xw[init:fin],yw[init:fin])\n"
      ],
      "execution_count": 353,
      "outputs": [
        {
          "output_type": "execute_result",
          "data": {
            "text/plain": [
              "[<matplotlib.lines.Line2D at 0x7fec71ec46d8>]"
            ]
          },
          "metadata": {
            "tags": []
          },
          "execution_count": 353
        },
        {
          "output_type": "display_data",
          "data": {
            "image/png": "[encoded data removed]",
            "text/plain": [
              "<Figure size 432x288 with 1 Axes>"
            ]
          },
          "metadata": {
            "tags": [],
            "needs_background": "light"
          }
        }
      ]
    },
    {
      "cell_type": "code",
      "metadata": {
        "id": "Mes2IOLs4Rqv",
        "colab_type": "code",
        "outputId": "6bf94ef0-d96d-4dbc-8ac5-ea35b97b4108",
        "colab": {
          "base_uri": "https://localhost:8080/",
          "height": 282
        }
      },
      "source": [
        "#importing all kalman packages\n",
        "from filterpy.kalman import MerweScaledSigmaPoints #Generates sigma points\n",
        "from filterpy.kalman import UnscentedKalmanFilter as UKF #Unscented Kalman Filter\n",
        "\n",
        "#initial time step\n",
        "dt = dti[0]\n",
        "\n",
        "#generating sigma points\n",
        "sigmas = MerweScaledSigmaPoints(3, alpha=.1, beta=2., kappa=0.0)\n",
        "\n",
        "#initializing UKF\n",
        "ukf = UKF(dim_x=3, dim_z=3, fx=A_ball,\n",
        "          hx=h_camera, dt=dt, points=sigmas)\n",
        "ukf.x = x0\n",
        "ukf.R = np.diag([10, 3,1]) #Measurement covariance obtained by trial and error\n",
        "ukf.Q[0,0] = 0.1\n",
        "ukf.Q[1,1] = 0.1\n",
        "ukf.Q[2,2] = 0.1\n",
        "\n",
        "uxs = []\n",
        "uxs.append(x0.copy())\n",
        "i =0\n",
        "\n",
        "#Running the filter through all available measurements\n",
        "for z in zs[1:fin-init]:\n",
        "    \n",
        "    i = i+1\n",
        "    ukf.predict(dti[i-1],ini=ini, netdt = ti_[i])\n",
        "    ukf.update(z)\n",
        "    uxs.append(ukf.x.copy())\n",
        "\n",
        "#state values from the filter   \n",
        "uxs = np.array(uxs)\n",
        "\n",
        "#plotting x vs y given by UKF\n",
        "plt.plot(uxs[:, 0],uxs[:, 1])\n",
        "\n"
      ],
      "execution_count": 354,
      "outputs": [
        {
          "output_type": "execute_result",
          "data": {
            "text/plain": [
              "[<matplotlib.lines.Line2D at 0x7fec71eab240>]"
            ]
          },
          "metadata": {
            "tags": []
          },
          "execution_count": 354
        },
        {
          "output_type": "display_data",
          "data": {
            "image/png": "[encoded data removed]",
            "text/plain": [
              "<Figure size 432x288 with 1 Axes>"
            ]
          },
          "metadata": {
            "tags": [],
            "needs_background": "light"
          }
        }
      ]
    },
    {
      "cell_type": "code",
      "metadata": {
        "id": "gLH0J_OC4aOn",
        "colab_type": "code",
        "outputId": "7aa5e183-7f0b-4a2c-8518-d86de3b5abbb",
        "colab": {
          "base_uri": "https://localhost:8080/",
          "height": 282
        }
      },
      "source": [
        "#Calculating x,y image coordinates for the UKF given trajectory\n",
        "ur = np.array([617-(f*x/zmin) for x in uxs[:,0]])\n",
        "vr = np.array([360-(f*(y+(zmin/20)-18*2.54)/zmin) for y in uxs[:,1]])\n",
        "\n",
        "#plotting image x vs y given by UKF\n",
        "plt.plot(ur,vr)"
      ],
      "execution_count": 355,
      "outputs": [
        {
          "output_type": "execute_result",
          "data": {
            "text/plain": [
              "[<matplotlib.lines.Line2D at 0x7fec71e090b8>]"
            ]
          },
          "metadata": {
            "tags": []
          },
          "execution_count": 355
        },
        {
          "output_type": "display_data",
          "data": {
            "image/png": "[encoded data removed]",
            "text/plain": [
              "<Figure size 432x288 with 1 Axes>"
            ]
          },
          "metadata": {
            "tags": [],
            "needs_background": "light"
          }
        }
      ]
    },
    {
      "cell_type": "code",
      "metadata": {
        "id": "zSAt2oj7-fYg",
        "colab_type": "code",
        "outputId": "9b3be522-92d6-4f80-d424-f2bbd6a35725",
        "colab": {
          "base_uri": "https://localhost:8080/",
          "height": 282
        }
      },
      "source": [
        "#Using only part of the measurements and predicting the remaining \n",
        "stop = 33\n",
        "vx = (uxs[stop,0]-uxs[0,0])/ti_[stop]\n",
        "vy = (uxs[stop,1]-uxs[stop-3,1])/(ti_[stop]-ti_[stop-3])\n",
        "tir = np.linspace(0,0.1 + ti_[-1]+ -ti_[stop],100)\n",
        "xr = np.array([uxs[stop,0] + vx*n for n in tir])\n",
        "yr = np.array([uxs[stop,1] + vy*n - 0.5*979.343*(n**2) for n in tir])\n",
        "\n",
        "#predicted trajectory x vs y real\n",
        "plt.plot(xr,yr)"
      ],
      "execution_count": 356,
      "outputs": [
        {
          "output_type": "execute_result",
          "data": {
            "text/plain": [
              "[<matplotlib.lines.Line2D at 0x7fec71de3940>]"
            ]
          },
          "metadata": {
            "tags": []
          },
          "execution_count": 356
        },
        {
          "output_type": "display_data",
          "data": {
            "image/png": "[encoded data removed]",
            "text/plain": [
              "<Figure size 432x288 with 1 Axes>"
            ]
          },
          "metadata": {
            "tags": [],
            "needs_background": "light"
          }
        }
      ]
    },
    {
      "cell_type": "code",
      "metadata": {
        "id": "IISalMzOJaTW",
        "colab_type": "code",
        "outputId": "c8ee72dd-91be-40ab-f39a-587a05bdfe45",
        "colab": {
          "base_uri": "https://localhost:8080/",
          "height": 282
        }
      },
      "source": [
        "  #predicted x vs y in image coordinates\n",
        "  urp = np.array([617-(f*x_/zmin) for x_ in xr])\n",
        "  vrp = np.array([360-(f*(y_+(zmin/20)-18*2.54)/zmin) for y_ in yr])\n",
        "  plt.plot(urp,vrp)"
      ],
      "execution_count": 357,
      "outputs": [
        {
          "output_type": "execute_result",
          "data": {
            "text/plain": [
              "[<matplotlib.lines.Line2D at 0x7fec71d3fbe0>]"
            ]
          },
          "metadata": {
            "tags": []
          },
          "execution_count": 357
        },
        {
          "output_type": "display_data",
          "data": {
            "image/png": "[encoded data removed]",
            "text/plain": [
              "<Figure size 432x288 with 1 Axes>"
            ]
          },
          "metadata": {
            "tags": [],
            "needs_background": "light"
          }
        }
      ]
    },
    {
      "cell_type": "code",
      "metadata": {
        "id": "pg_3e6_oF-2N",
        "colab_type": "code",
        "outputId": "ac5ff69d-17ea-49c7-b05f-3f221f3267a1",
        "colab": {
          "base_uri": "https://localhost:8080/",
          "height": 282
        }
      },
      "source": [
        "#UKF data till stopping\n",
        "urf = ur[0:stop-1]\n",
        "vrf = vr[0:stop-1]\n",
        "plt.plot(urf,vrf)"
      ],
      "execution_count": 358,
      "outputs": [
        {
          "output_type": "execute_result",
          "data": {
            "text/plain": [
              "[<matplotlib.lines.Line2D at 0x7fec71cb2390>]"
            ]
          },
          "metadata": {
            "tags": []
          },
          "execution_count": 358
        },
        {
          "output_type": "display_data",
          "data": {
            "image/png": "[encoded data removed]",
            "text/plain": [
              "<Figure size 432x288 with 1 Axes>"
            ]
          },
          "metadata": {
            "tags": [],
            "needs_background": "light"
          }
        }
      ]
    },
    {
      "cell_type": "code",
      "metadata": {
        "id": "QKL9mkcSKcfq",
        "colab_type": "code",
        "outputId": "90167b09-660b-44dc-f660-8a59bf765bcd",
        "colab": {
          "base_uri": "https://localhost:8080/",
          "height": 282
        }
      },
      "source": [
        "  # concatenated data to be shown in the video\n",
        "  url = np.concatenate((urf,urp))\n",
        "  vrl = np.concatenate((vrf,vrp))\n",
        "  \n",
        "  plt.plot(url,vrl)"
      ],
      "execution_count": 359,
      "outputs": [
        {
          "output_type": "execute_result",
          "data": {
            "text/plain": [
              "[<matplotlib.lines.Line2D at 0x7fec71c8e5f8>]"
            ]
          },
          "metadata": {
            "tags": []
          },
          "execution_count": 359
        },
        {
          "output_type": "display_data",
          "data": {
            "image/png": "[encoded data removed]",
            "text/plain": [
              "<Figure size 432x288 with 1 Axes>"
            ]
          },
          "metadata": {
            "tags": [],
            "needs_background": "light"
          }
        }
      ]
    }
  ]
}